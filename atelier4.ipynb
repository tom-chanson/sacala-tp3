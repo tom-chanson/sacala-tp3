{
 "cells": [
  {
   "cell_type": "markdown",
   "id": "4e5b0198",
   "metadata": {},
   "source": [
    "## TP3"
   ]
  },
  {
   "cell_type": "code",
   "execution_count": 15,
   "id": "3084a021",
   "metadata": {},
   "outputs": [
    {
     "name": "stdout",
     "output_type": "stream",
     "text": [
      "ID:   1 | Name: Atomic Ravens of Doom                         | MediaType ID:  4 | Genre ID:  5\n",
      "ID:   2 | Name: Wild Titans in Chains                         | MediaType ID:  3 | Genre ID: 10\n",
      "ID:   3 | Name: Screaming Void of Eternity                    | MediaType ID:  4 | Genre ID:  1\n",
      "ID:   4 | Name: Mystic Knights of Tomorrow                    | MediaType ID:  3 | Genre ID: 20\n",
      "ID:   5 | Name: Lost Heroes from the Desert                   | MediaType ID:  5 | Genre ID: 10\n",
      "ID:   6 | Name: Digital Wizards from the East                 | MediaType ID:  4 | Genre ID: 10\n",
      "ID:   7 | Name: Arctic Knights of Destruction                 | MediaType ID:  3 | Genre ID: 14\n",
      "ID:   8 | Name: Arctic Knights of the Night                   | MediaType ID:  3 | Genre ID: 19\n",
      "ID:   9 | Name: Atomic Ravens in Disguise                     | MediaType ID:  1 | Genre ID: 25\n",
      "ID:  10 | Name: Crimson Lions from the Desert                 | MediaType ID:  4 | Genre ID: 14\n",
      "ID:  11 | Name: Sonic Wolves from Beyond                      | MediaType ID:  4 | Genre ID:  9\n",
      "ID:  12 | Name: Digital Rebels of Tomorrow                    | MediaType ID:  3 | Genre ID: 14\n",
      "ID:  13 | Name: Liquid Horizon of the Deep                    | MediaType ID:  2 | Genre ID:  9\n",
      "ID:  14 | Name: Wild Outlaws of the Night                     | MediaType ID:  1 | Genre ID: 20\n",
      "ID:  15 | Name: Crystal Demons in Flames                      | MediaType ID:  3 | Genre ID: 25\n",
      "ID:  16 | Name: Royal Zombies in Flames                       | MediaType ID:  5 | Genre ID:  7\n",
      "ID:  17 | Name: Raging Empire of Eternity                     | MediaType ID:  2 | Genre ID: 18\n",
      "ID:  18 | Name: Crimson Outlaws of Destruction                | MediaType ID:  2 | Genre ID: 15\n",
      "ID:  19 | Name: Silent Outlaws from Beyond                    | MediaType ID:  3 | Genre ID: 23\n",
      "ID:  20 | Name: Crimson Outlaws in Chains                     | MediaType ID:  2 | Genre ID:  8\n",
      "ID:  21 | Name: Sacred Bandits of the Abyss                   | MediaType ID:  5 | Genre ID:  4\n",
      "ID:  22 | Name: Urban Bandits in Flames                       | MediaType ID:  1 | Genre ID:  6\n",
      "ID:  23 | Name: Urban Wizards in Shadow                       | MediaType ID:  2 | Genre ID: 14\n",
      "ID:  24 | Name: Sacred Machines in Disguise                   | MediaType ID:  2 | Genre ID: 18\n",
      "ID:  25 | Name: Electric Kings of the Night                   | MediaType ID:  4 | Genre ID:  3\n",
      "ID:  26 | Name: Silent Wolves in Chains                       | MediaType ID:  3 | Genre ID: 15\n",
      "ID:  27 | Name: Wild Dragons of Eternity                      | MediaType ID:  4 | Genre ID: 21\n",
      "ID:  28 | Name: Digital Bandits of the Night                  | MediaType ID:  5 | Genre ID:  3\n",
      "ID:  29 | Name: Liquid Demons of Tomorrow                     | MediaType ID:  1 | Genre ID:  4\n",
      "ID:  30 | Name: Mystic Shadows in Flames                      | MediaType ID:  3 | Genre ID:  3\n",
      "ID:  31 | Name: Electric Echo from Beyond                     | MediaType ID:  2 | Genre ID: 20\n",
      "ID:  32 | Name: Mystic Wizards from Hell                      | MediaType ID:  5 | Genre ID: 13\n",
      "ID:  33 | Name: Silent Machines in Chains                     | MediaType ID:  2 | Genre ID:  7\n",
      "ID:  34 | Name: Sacred Machines in Disguise                   | MediaType ID:  1 | Genre ID: 11\n",
      "ID:  35 | Name: Silent Saints from Beyond                     | MediaType ID:  2 | Genre ID: 19\n",
      "ID:  36 | Name: Midnight Knights of the Underground           | MediaType ID:  3 | Genre ID:  2\n",
      "ID:  37 | Name: Screaming Shadows in Disguise                 | MediaType ID:  3 | Genre ID: 17\n",
      "ID:  38 | Name: Sonic Rebels in Exile                         | MediaType ID:  4 | Genre ID: 18\n",
      "ID:  39 | Name: Sonic Ravens of the North                     | MediaType ID:  2 | Genre ID:  2\n",
      "ID:  40 | Name: Savage Knights from Mars                      | MediaType ID:  3 | Genre ID:  4\n",
      "ID:  41 | Name: Urban Titans of Death                         | MediaType ID:  3 | Genre ID: 23\n",
      "ID:  42 | Name: Golden Knights in Shadow                      | MediaType ID:  2 | Genre ID:  6\n",
      "ID:  43 | Name: Infinite Killers of Tomorrow                  | MediaType ID:  1 | Genre ID:  8\n",
      "ID:  44 | Name: Electric Lions of the Night                   | MediaType ID:  2 | Genre ID: 24\n",
      "ID:  45 | Name: Screaming Dragons of Death                    | MediaType ID:  4 | Genre ID:  3\n",
      "ID:  46 | Name: Crimson Wizards of the Abyss                  | MediaType ID:  5 | Genre ID: 13\n",
      "ID:  47 | Name: Golden Rebels of Death                        | MediaType ID:  2 | Genre ID: 25\n",
      "ID:  48 | Name: Royal Wolves in Shadow                        | MediaType ID:  1 | Genre ID: 23\n",
      "ID:  49 | Name: Stellar Demons in Flames                      | MediaType ID:  3 | Genre ID: 21\n",
      "ID:  50 | Name: Raging Knights of Death                       | MediaType ID:  2 | Genre ID: 22\n",
      "ID:  51 | Name: Atomic Angels of Tomorrow                     | MediaType ID:  4 | Genre ID:  3\n",
      "ID:  52 | Name: Phantom Killers of the Underground            | MediaType ID:  2 | Genre ID: 25\n",
      "ID:  53 | Name: Primal Empire of Doom                         | MediaType ID:  2 | Genre ID: 15\n",
      "ID:  54 | Name: Toxic Heroes of Death                         | MediaType ID:  2 | Genre ID: 25\n",
      "ID:  55 | Name: Atomic Empire of Eternity                     | MediaType ID:  5 | Genre ID:  1\n",
      "ID:  56 | Name: Lunar Outlaws of the Abyss                    | MediaType ID:  5 | Genre ID: 10\n",
      "ID:  57 | Name: Electric Knights from the Sky                 | MediaType ID:  1 | Genre ID:  2\n",
      "ID:  58 | Name: Atomic Demons in Shadow                       | MediaType ID:  3 | Genre ID: 25\n",
      "ID:  59 | Name: Arctic Heroes from the East                   | MediaType ID:  3 | Genre ID:  3\n",
      "ID:  60 | Name: Electric Wizards in Chains                    | MediaType ID:  1 | Genre ID: 21\n",
      "ID:  61 | Name: Crystal Zombies of the Deep                   | MediaType ID:  5 | Genre ID: 18\n",
      "ID:  62 | Name: Primal Saints in Shadow                       | MediaType ID:  3 | Genre ID: 15\n",
      "ID:  63 | Name: Royal Giants of Destruction                   | MediaType ID:  3 | Genre ID: 19\n",
      "ID:  64 | Name: Silent Shadows from the Sky                   | MediaType ID:  1 | Genre ID:  9\n",
      "ID:  65 | Name: Sacred Knights of Doom                        | MediaType ID:  5 | Genre ID: 22\n",
      "ID:  66 | Name: Eternal Outlaws of the Abyss                  | MediaType ID:  3 | Genre ID: 24\n",
      "ID:  67 | Name: Sonic Ravens of the Underground               | MediaType ID:  2 | Genre ID: 19\n",
      "ID:  68 | Name: Wild Thunder of the Abyss                     | MediaType ID:  4 | Genre ID: 21\n",
      "ID:  69 | Name: Toxic Zombies of Destruction                  | MediaType ID:  1 | Genre ID: 19\n",
      "ID:  70 | Name: Wild Rebels in Exile                          | MediaType ID:  1 | Genre ID: 22\n",
      "ID:  71 | Name: Lunar Demons of the Underground               | MediaType ID:  2 | Genre ID:  1\n",
      "ID:  72 | Name: Arctic Demons in Disguise                     | MediaType ID:  1 | Genre ID: 24\n",
      "ID:  73 | Name: Crystal Ravens in Shadow                      | MediaType ID:  2 | Genre ID: 15\n",
      "ID:  74 | Name: Cosmic Wizards from the East                  | MediaType ID:  1 | Genre ID: 16\n",
      "ID:  75 | Name: Velvet Dragons of Destruction                 | MediaType ID:  5 | Genre ID: 11\n",
      "ID:  76 | Name: Urban Pirates of Death                        | MediaType ID:  3 | Genre ID: 12\n",
      "ID:  77 | Name: Raging Kings from Mars                        | MediaType ID:  5 | Genre ID:  6\n",
      "ID:  78 | Name: Liquid Wizards of Eternity                    | MediaType ID:  2 | Genre ID:  8\n",
      "ID:  79 | Name: Phantom Warriors in Flames                    | MediaType ID:  1 | Genre ID: 20\n",
      "ID:  80 | Name: Arctic Wizards of the Underground             | MediaType ID:  1 | Genre ID:  2\n",
      "ID:  81 | Name: Infinite Echo from Mars                       | MediaType ID:  1 | Genre ID:  4\n",
      "ID:  82 | Name: Digital Shadows of Doom                       | MediaType ID:  1 | Genre ID: 24\n",
      "ID:  83 | Name: Lost Titans from the Desert                   | MediaType ID:  1 | Genre ID: 22\n",
      "ID:  84 | Name: Eternal Dragons from Hell                     | MediaType ID:  2 | Genre ID:  7\n",
      "ID:  85 | Name: Crimson Demons in Shadow                      | MediaType ID:  4 | Genre ID: 19\n",
      "ID:  86 | Name: Eternal Dragons in Disguise                   | MediaType ID:  2 | Genre ID: 20\n",
      "ID:  87 | Name: Sacred Echo from the East                     | MediaType ID:  4 | Genre ID:  6\n",
      "ID:  88 | Name: Atomic Saints in Disguise                     | MediaType ID:  1 | Genre ID: 23\n",
      "ID:  89 | Name: Atomic Titans of Doom                         | MediaType ID:  2 | Genre ID:  6\n",
      "ID:  90 | Name: Digital Prophets of the Night                 | MediaType ID:  2 | Genre ID: 17\n",
      "ID:  91 | Name: Phantom Kings of Tomorrow                     | MediaType ID:  1 | Genre ID: 11\n",
      "ID:  92 | Name: Raging Void of Eternity                       | MediaType ID:  3 | Genre ID: 21\n",
      "ID:  93 | Name: Golden Dragons of the Abyss                   | MediaType ID:  1 | Genre ID:  6\n",
      "ID:  94 | Name: Primal Empire of the Underground              | MediaType ID:  2 | Genre ID: 25\n",
      "ID:  95 | Name: Silent Titans in Exile                        | MediaType ID:  2 | Genre ID: 17\n",
      "ID:  96 | Name: Wild Zombies of the North                     | MediaType ID:  2 | Genre ID: 18\n",
      "ID:  97 | Name: Liquid Demons in Disguise                     | MediaType ID:  4 | Genre ID: 22\n",
      "ID:  98 | Name: Electric Echo of the Abyss                    | MediaType ID:  1 | Genre ID: 14\n",
      "ID:  99 | Name: Cosmic Warriors in Exile                      | MediaType ID:  5 | Genre ID:  5\n",
      "ID: 100 | Name: Royal Angels in Disguise                      | MediaType ID:  3 | Genre ID: 13\n",
      "ID: 101 | Name: Sonic Machines of the Underground             | MediaType ID:  3 | Genre ID: 18\n",
      "ID: 102 | Name: Savage Wolves of the Deep                     | MediaType ID:  2 | Genre ID: 25\n",
      "ID: 103 | Name: Primal Titans from Beyond                     | MediaType ID:  1 | Genre ID:  3\n",
      "ID: 104 | Name: Screaming Titans of Tomorrow                  | MediaType ID:  4 | Genre ID: 12\n",
      "ID: 105 | Name: Toxic Ravens from the Desert                  | MediaType ID:  3 | Genre ID: 20\n",
      "ID: 106 | Name: Urban Echo in Flames                          | MediaType ID:  3 | Genre ID: 17\n",
      "ID: 107 | Name: Cosmic Echo of the Underground                | MediaType ID:  5 | Genre ID:  1\n",
      "ID: 108 | Name: Lost Zombies of Death                         | MediaType ID:  4 | Genre ID: 22\n",
      "ID: 109 | Name: Sacred Prophets in Exile                      | MediaType ID:  3 | Genre ID: 14\n",
      "ID: 110 | Name: Lunar Ghosts in Disguise                      | MediaType ID:  3 | Genre ID:  9\n",
      "ID: 111 | Name: Royal Rebels in Flames                        | MediaType ID:  3 | Genre ID: 16\n",
      "ID: 112 | Name: Royal Wolves of the Deep                      | MediaType ID:  3 | Genre ID: 19\n",
      "ID: 113 | Name: Cosmic Empire from the Desert                 | MediaType ID:  5 | Genre ID:  1\n",
      "ID: 114 | Name: Raging Wizards in Chains                      | MediaType ID:  1 | Genre ID: 25\n",
      "ID: 115 | Name: Liquid Zombies from Mars                      | MediaType ID:  4 | Genre ID: 14\n",
      "ID: 116 | Name: Silent Wizards of Doom                        | MediaType ID:  3 | Genre ID:  7\n",
      "ID: 117 | Name: Eternal Knights from Hell                     | MediaType ID:  4 | Genre ID: 17\n",
      "ID: 118 | Name: Infinite Shadows in Flames                    | MediaType ID:  3 | Genre ID: 14\n",
      "ID: 119 | Name: Silent Machines of Doom                       | MediaType ID:  2 | Genre ID: 23\n",
      "ID: 120 | Name: Crystal Ghosts of Tomorrow                    | MediaType ID:  2 | Genre ID: 21\n",
      "ID: 121 | Name: Primal Horizon of Destruction                 | MediaType ID:  1 | Genre ID: 22\n",
      "ID: 122 | Name: Raging Ghosts of Death                        | MediaType ID:  1 | Genre ID: 23\n",
      "ID: 123 | Name: Lost Giants in Disguise                       | MediaType ID:  3 | Genre ID: 20\n",
      "ID: 124 | Name: Royal Killers of the Deep                     | MediaType ID:  2 | Genre ID: 16\n",
      "ID: 125 | Name: Liquid Thunder of Destruction                 | MediaType ID:  5 | Genre ID:  1\n",
      "ID: 126 | Name: Stellar Demons in Flames                      | MediaType ID:  1 | Genre ID: 10\n",
      "ID: 127 | Name: Crimson Knights in Exile                      | MediaType ID:  4 | Genre ID:  1\n",
      "ID: 128 | Name: Royal Giants of Doom                          | MediaType ID:  4 | Genre ID: 24\n",
      "ID: 129 | Name: Electric Thunder in Shadow                    | MediaType ID:  5 | Genre ID: 12\n",
      "ID: 130 | Name: Arctic Prophets of Doom                       | MediaType ID:  4 | Genre ID: 11\n",
      "ID: 131 | Name: Savage Dragons of Destruction                 | MediaType ID:  3 | Genre ID: 14\n",
      "ID: 132 | Name: Liquid Wolves from the Sky                    | MediaType ID:  1 | Genre ID:  6\n",
      "ID: 133 | Name: Infinite Ghosts of the North                  | MediaType ID:  5 | Genre ID: 22\n",
      "ID: 134 | Name: Velvet Rebels from Hell                       | MediaType ID:  5 | Genre ID: 25\n",
      "ID: 135 | Name: Wild Machines from Beyond                     | MediaType ID:  2 | Genre ID:  3\n",
      "ID: 136 | Name: Eternal Void of the Abyss                     | MediaType ID:  2 | Genre ID:  9\n",
      "ID: 137 | Name: Lost Bandits from the Desert                  | MediaType ID:  2 | Genre ID: 17\n",
      "ID: 138 | Name: Velvet Pirates of Eternity                    | MediaType ID:  5 | Genre ID: 24\n",
      "ID: 139 | Name: Toxic Zombies of the Deep                     | MediaType ID:  3 | Genre ID: 22\n",
      "ID: 140 | Name: Crimson Ghosts of Doom                        | MediaType ID:  1 | Genre ID:  1\n",
      "ID: 141 | Name: Sacred Killers from the Desert                | MediaType ID:  5 | Genre ID: 21\n",
      "ID: 142 | Name: Toxic Echo from the Desert                    | MediaType ID:  4 | Genre ID:  9\n",
      "ID: 143 | Name: Urban Shadows in Flames                       | MediaType ID:  3 | Genre ID: 11\n",
      "ID: 144 | Name: Raging Echo from Hell                         | MediaType ID:  2 | Genre ID: 20\n",
      "ID: 145 | Name: Savage Rebels in Disguise                     | MediaType ID:  4 | Genre ID:  5\n",
      "ID: 146 | Name: Wild Warriors from Mars                       | MediaType ID:  4 | Genre ID: 19\n",
      "ID: 147 | Name: Stellar Outlaws in Exile                      | MediaType ID:  5 | Genre ID:  8\n",
      "ID: 148 | Name: Raging Warriors of the Abyss                  | MediaType ID:  1 | Genre ID: 10\n",
      "ID: 149 | Name: Wild Void of Doom                             | MediaType ID:  4 | Genre ID: 25\n",
      "ID: 150 | Name: Toxic Warriors from the Desert                | MediaType ID:  2 | Genre ID: 12\n",
      "ID: 151 | Name: Eternal Wizards of the North                  | MediaType ID:  4 | Genre ID: 21\n",
      "ID: 152 | Name: Wild Shadows from the East                    | MediaType ID:  3 | Genre ID:  1\n",
      "ID: 153 | Name: Arctic Bandits from Mars                      | MediaType ID:  1 | Genre ID:  2\n",
      "ID: 154 | Name: Arctic Rebels of Destruction                  | MediaType ID:  2 | Genre ID:  5\n",
      "ID: 155 | Name: Sacred Demons of Destruction                  | MediaType ID:  4 | Genre ID:  1\n",
      "ID: 156 | Name: Toxic Shadows of the North                    | MediaType ID:  2 | Genre ID:  3\n",
      "ID: 157 | Name: Cosmic Titans of the Abyss                    | MediaType ID:  3 | Genre ID:  2\n",
      "ID: 158 | Name: Infinite Heroes from the Sky                  | MediaType ID:  4 | Genre ID: 18\n",
      "ID: 159 | Name: Raging Empire of the Deep                     | MediaType ID:  5 | Genre ID: 23\n",
      "ID: 160 | Name: Primal Angels from Hell                       | MediaType ID:  2 | Genre ID: 16\n",
      "ID: 161 | Name: Cosmic Ghosts of Tomorrow                     | MediaType ID:  1 | Genre ID: 13\n",
      "ID: 162 | Name: Atomic Knights from Hell                      | MediaType ID:  5 | Genre ID: 17\n",
      "ID: 163 | Name: Toxic Demons from the East                    | MediaType ID:  1 | Genre ID: 19\n",
      "ID: 164 | Name: Crystal Lions in Exile                        | MediaType ID:  5 | Genre ID: 23\n",
      "ID: 165 | Name: Sonic Saints from Beyond                      | MediaType ID:  2 | Genre ID: 22\n",
      "ID: 166 | Name: Neon Knights of the Underground               | MediaType ID:  3 | Genre ID: 11\n",
      "ID: 167 | Name: Liquid Wizards of the North                   | MediaType ID:  5 | Genre ID: 25\n",
      "ID: 168 | Name: Phantom Void of the Abyss                     | MediaType ID:  4 | Genre ID:  8\n",
      "ID: 169 | Name: Royal Dragons in Chains                       | MediaType ID:  4 | Genre ID: 15\n",
      "ID: 170 | Name: Crimson Wolves from Hell                      | MediaType ID:  3 | Genre ID: 12\n",
      "ID: 171 | Name: Urban Prophets from the East                  | MediaType ID:  1 | Genre ID:  9\n",
      "ID: 172 | Name: Neon Angels of the Deep                       | MediaType ID:  2 | Genre ID: 24\n",
      "ID: 173 | Name: Urban Ravens in Flames                        | MediaType ID:  1 | Genre ID:  4\n",
      "ID: 174 | Name: Crystal Saints of Destruction                 | MediaType ID:  3 | Genre ID: 22\n",
      "ID: 175 | Name: Screaming Warriors of Eternity                | MediaType ID:  3 | Genre ID:  9\n",
      "ID: 176 | Name: Arctic Giants of the Underground              | MediaType ID:  4 | Genre ID:  7\n",
      "ID: 177 | Name: Liquid Knights of Destruction                 | MediaType ID:  3 | Genre ID: 20\n",
      "ID: 178 | Name: Stellar Killers of Death                      | MediaType ID:  5 | Genre ID: 13\n",
      "ID: 179 | Name: Savage Horizon from Hell                      | MediaType ID:  4 | Genre ID: 11\n",
      "ID: 180 | Name: Phantom Knights of the Night                  | MediaType ID:  4 | Genre ID: 19\n",
      "ID: 181 | Name: Arctic Ghosts from the Desert                 | MediaType ID:  4 | Genre ID: 24\n",
      "ID: 182 | Name: Silent Giants from Mars                       | MediaType ID:  3 | Genre ID:  4\n",
      "ID: 183 | Name: Royal Warriors of the North                   | MediaType ID:  1 | Genre ID: 11\n",
      "ID: 184 | Name: Electric Prophets of the Abyss                | MediaType ID:  1 | Genre ID: 19\n",
      "ID: 185 | Name: Silent Rebels in Exile                        | MediaType ID:  1 | Genre ID: 18\n",
      "ID: 186 | Name: Silent Warriors from Hell                     | MediaType ID:  5 | Genre ID: 17\n",
      "ID: 187 | Name: Mystic Prophets of the Deep                   | MediaType ID:  4 | Genre ID: 15\n",
      "ID: 188 | Name: Atomic Empire from the East                   | MediaType ID:  5 | Genre ID: 14\n",
      "ID: 189 | Name: Raging Demons from Beyond                     | MediaType ID:  4 | Genre ID: 19\n",
      "ID: 190 | Name: Neon Shadows from the Desert                  | MediaType ID:  1 | Genre ID: 10\n",
      "ID: 191 | Name: Phantom Angels of Doom                        | MediaType ID:  5 | Genre ID: 24\n",
      "ID: 192 | Name: Sacred Thunder of Doom                        | MediaType ID:  3 | Genre ID: 11\n",
      "ID: 193 | Name: Savage Ghosts of the Underground              | MediaType ID:  3 | Genre ID: 14\n",
      "ID: 194 | Name: Phantom Wizards of the Night                  | MediaType ID:  1 | Genre ID: 14\n",
      "ID: 195 | Name: Velvet Warriors from Hell                     | MediaType ID:  3 | Genre ID:  9\n",
      "ID: 196 | Name: Infinite Lions from Mars                      | MediaType ID:  5 | Genre ID:  5\n",
      "ID: 197 | Name: Atomic Warriors in Disguise                   | MediaType ID:  2 | Genre ID:  2\n",
      "ID: 198 | Name: Screaming Giants of Tomorrow                  | MediaType ID:  2 | Genre ID: 16\n",
      "ID: 199 | Name: Digital Shadows from Beyond                   | MediaType ID:  5 | Genre ID: 12\n",
      "ID: 200 | Name: Toxic Machines of the Deep                    | MediaType ID:  3 | Genre ID:  4\n",
      "Filtered invoices\n",
      "Invoice ID: 89\n",
      "  Invoice Line ID: 891 | Track ID:  55 | Prix: 1.58 | Quantité:  1\n",
      "Invoice ID: 147\n",
      "  Invoice Line ID: 1471 | Track ID:  55 | Prix: 1.83 | Quantité:  1\n",
      "Invoice ID: 343\n",
      "  Invoice Line ID: 3431 | Track ID: 152 | Prix: 1.79 | Quantité:  1\n",
      "Invoice ID: 544\n",
      "  Invoice Line ID: 5441 | Track ID: 155 | Prix: 1.46 | Quantité:  1\n",
      "Invoice ID: 707\n",
      "  Invoice Line ID: 7071 | Track ID: 125 | Prix: 1.77 | Quantité:  1\n",
      "Invoice ID: 787\n",
      "  Invoice Line ID: 7871 | Track ID: 152 | Prix: 1.10 | Quantité:  1\n",
      "Invoice ID: 886\n",
      "  Invoice Line ID: 8861 | Track ID: 140 | Prix: 1.43 | Quantité:  1\n",
      "Invoice ID: 1060\n",
      "  Invoice Line ID: 10601 | Track ID: 152 | Prix: 0.99 | Quantité:  1\n",
      "Invoice ID: 1120\n",
      "  Invoice Line ID: 11201 | Track ID: 127 | Prix: 1.31 | Quantité:  2\n",
      "  Invoice Line ID: 11202 | Track ID: 140 | Prix: 1.31 | Quantité:  1\n",
      "Invoice ID: 1429\n",
      "  Invoice Line ID: 14291 | Track ID: 127 | Prix: 1.35 | Quantité:  2\n",
      "Invoice ID: 1486\n",
      "  Invoice Line ID: 14861 | Track ID: 113 | Prix: 1.09 | Quantité:  1\n",
      "Invoice ID: 1579\n",
      "  Invoice Line ID: 15791 | Track ID: 152 | Prix: 1.08 | Quantité:  1\n",
      "Invoice ID: 1593\n",
      "  Invoice Line ID: 15931 | Track ID: 140 | Prix: 1.09 | Quantité:  3\n",
      "Invoice ID: 1693\n",
      "  Invoice Line ID: 16931 | Track ID:  71 | Prix: 1.79 | Quantité:  1\n",
      "Invoice ID: 1745\n",
      "  Invoice Line ID: 17451 | Track ID: 140 | Prix: 1.33 | Quantité:  1\n",
      "  Invoice Line ID: 17452 | Track ID: 107 | Prix: 1.87 | Quantité:  3\n",
      "Invoice ID: 1810\n",
      "  Invoice Line ID: 18101 | Track ID:   3 | Prix: 1.00 | Quantité:  1\n",
      "Invoice ID: 1835\n",
      "  Invoice Line ID: 18351 | Track ID:   3 | Prix: 1.90 | Quantité:  1\n",
      "Invoice ID: 1977\n",
      "  Invoice Line ID: 19771 | Track ID: 113 | Prix: 1.37 | Quantité:  1\n",
      "Top 5\n",
      "Track ID:  96 | Nom: Wild Zombies of the North                     | Total ventes: 55\n",
      "Track ID: 169 | Nom: Royal Dragons in Chains                       | Total ventes: 53\n",
      "Track ID:  39 | Nom: Sonic Ravens of the North                     | Total ventes: 52\n",
      "Track ID: 161 | Nom: Cosmic Ghosts of Tomorrow                     | Total ventes: 52\n",
      "Track ID: 125 | Nom: Liquid Thunder of Destruction                 | Total ventes: 50\n",
      "Total commande par genre\n",
      "Genre: R&B/Soul             | Total commande: 350\n",
      "Genre: Metal                | Total commande: 258\n",
      "Genre: Opera                | Total commande: 366\n",
      "Genre: Rock                 | Total commande: 298\n",
      "Genre: Latin                | Total commande: 163\n",
      "Genre: Classical            | Total commande: 239\n",
      "Genre: Comedy               | Total commande: 346\n",
      "Genre: Science Fiction      | Total commande: 216\n",
      "Genre: Sci Fi & Fantasy     | Total commande: 271\n",
      "Genre: Drama                | Total commande: 208\n",
      "Genre: Pop                  | Total commande: 292\n",
      "Genre: Hip Hop/Rap          | Total commande: 237\n",
      "Genre: Jazz                 | Total commande: 222\n",
      "Genre: Electronica/Dance    | Total commande: 207\n",
      "Genre: TV Shows             | Total commande: 380\n",
      "Genre: Blues                | Total commande: 202\n",
      "Genre: Heavy Metal          | Total commande: 158\n",
      "Genre: Rock And Roll        | Total commande: 141\n",
      "Genre: Soundtrack           | Total commande: 215\n",
      "Genre: Reggae               | Total commande: 152\n",
      "Genre: Easy Listening       | Total commande: 184\n",
      "Genre: Alternative          | Total commande: 241\n",
      "Genre: Alternative & Punk   | Total commande: 199\n",
      "Genre: World                | Total commande: 157\n",
      "Genre: Bossa Nova           | Total commande: 234\n",
      "Le plus haut responsable de Jane Peacock est Andrew Adams\n"
     ]
    },
    {
     "data": {
      "text/plain": [
       "defined class Employee\n",
       "defined class MediaType\n",
       "defined class Genre\n",
       "defined class Track\n",
       "defined class InvoiceItem\n",
       "defined class Invoice\n",
       "employees = Array(Employee(1,Adams,Andrew,General Manager,0), Employee(2,Edwards,Nancy,Sales Manager,1), Employee(3,Peacock,Jane,Sales Support Agent,2), Employee(4,Park,Margaret,Sales Support Agent,2), Employee(5,Johnson,Steve,Sales Support Agent,2), Employee(6,Mitchell,Michael,IT Manager,1), Employee(7,King,Robert,IT Staff,6), Employee(8,Callahan,Laura,IT Staff,6))\n",
       "mediaTypes = Array(MediaType(1,MPEG audio file), MediaType(2,Protected AAC audio file), MediaType(3,Protected MPEG-4 video file), MediaType(4,Purchased AAC audio file), MediaType(5,AAC audio file))\n",
       "genres = Array(Genre(1,Rock), Genre(2,Jazz), G...\n"
      ]
     },
     "metadata": {},
     "output_type": "display_data"
    },
    {
     "data": {
      "text/plain": [
       "Array(Genre(1,Rock), Genre(2,Jazz), G..."
      ]
     },
     "execution_count": 15,
     "metadata": {},
     "output_type": "execute_result"
    }
   ],
   "source": [
    "\n",
    "\n",
    "case class Employee(\n",
    "  employeeId: Int,\n",
    "  lastName: String,\n",
    "  firstName: String,\n",
    "  title: String,\n",
    "  reportsTo: Int\n",
    ")\n",
    "\n",
    "case class MediaType(\n",
    "  mediaTypeId: Int,\n",
    "  name: String\n",
    ")\n",
    "\n",
    "case class Genre(\n",
    "  genreId: Int,\n",
    "  name: String\n",
    ")\n",
    "\n",
    "case class Track(\n",
    "  trackId: Int,\n",
    "  name: String,\n",
    "  mediaType: Int,\n",
    "  genre: Int\n",
    ")\n",
    "\n",
    "case class InvoiceItem(\n",
    "  invoiceLineId: Int,\n",
    "  invoiceId: Int,\n",
    "  trackId: Int,\n",
    "  unitPrice: BigDecimal,\n",
    "  quantity: Int\n",
    "  )\n",
    "\n",
    "case class Invoice(\n",
    "  invoiceId: Int,\n",
    "  items: List[InvoiceItem]\n",
    ")\n",
    "\n",
    "val employees = Array(\n",
    "  Employee(1, \"Adams\", \"Andrew\", \"General Manager\", 0),\n",
    "  Employee(2, \"Edwards\", \"Nancy\", \"Sales Manager\", 1),\n",
    "  Employee(3, \"Peacock\", \"Jane\", \"Sales Support Agent\", 2),\n",
    "  Employee(4, \"Park\", \"Margaret\", \"Sales Support Agent\", 2),\n",
    "  Employee(5, \"Johnson\", \"Steve\", \"Sales Support Agent\", 2),\n",
    "  Employee(6, \"Mitchell\", \"Michael\", \"IT Manager\", 1),\n",
    "  Employee(7, \"King\", \"Robert\", \"IT Staff\", 6),\n",
    "  Employee(8, \"Callahan\", \"Laura\", \"IT Staff\", 6)\n",
    ")\n",
    "\n",
    "val mediaTypes = Array(\n",
    "  MediaType(1, \"MPEG audio file\"),\n",
    "  MediaType(2, \"Protected AAC audio file\"),\n",
    "  MediaType(3, \"Protected MPEG-4 video file\"),\n",
    "  MediaType(4, \"Purchased AAC audio file\"),\n",
    "  MediaType(5, \"AAC audio file\")\n",
    ")\n",
    "\n",
    "val genres = Array(\n",
    "  Genre(1, \"Rock\"),\n",
    "  Genre(2, \"Jazz\"),\n",
    "  Genre(3, \"Metal\"),\n",
    "  Genre(4, \"Alternative & Punk\"),\n",
    "  Genre(5, \"Rock And Roll\"),\n",
    "  Genre(6, \"Blues\"),\n",
    "  Genre(7, \"Latin\"),\n",
    "  Genre(8, \"Reggae\"),\n",
    "  Genre(9, \"Pop\"),\n",
    "  Genre(10, \"Soundtrack\"),\n",
    "  Genre(11, \"Bossa Nova\"),\n",
    "  Genre(12, \"Easy Listening\"),\n",
    "  Genre(13, \"Heavy Metal\"),\n",
    "  Genre(14, \"R&B/Soul\"),\n",
    "  Genre(15, \"Electronica/Dance\"),\n",
    "  Genre(16, \"World\"),\n",
    "  Genre(17, \"Hip Hop/Rap\"),\n",
    "  Genre(18, \"Science Fiction\"),\n",
    "  Genre(19, \"TV Shows\"),\n",
    "  Genre(20, \"Sci Fi & Fantasy\"),\n",
    "  Genre(21, \"Drama\"),\n",
    "  Genre(22, \"Comedy\"),\n",
    "  Genre(23, \"Alternative\"),\n",
    "  Genre(24, \"Classical\"),\n",
    "  Genre(25, \"Opera\")\n",
    ")\n",
    "\n",
    "val adjectives = Array(\"Cosmic\", \"Electric\", \"Velvet\", \"Mystic\", \"Atomic\", \"Phantom\", \"Silent\", \"Savage\", \"Eternal\", \"Digital\", \"Lost\", \"Sacred\", \"Wild\", \"Urban\", \"Golden\", \"Crystal\", \"Liquid\", \"Toxic\", \"Neon\", \"Crimson\", \"Stellar\", \"Raging\", \"Arctic\", \"Sonic\", \"Primal\", \"Midnight\", \"Screaming\", \"Infinite\", \"Royal\", \"Lunar\")\n",
    "val nouns = Array(\"Echo\", \"Giants\", \"Wolves\", \"Horizon\", \"Empire\", \"Void\", \"Thunder\", \"Dragons\", \"Saints\", \"Kings\", \"Ghosts\", \"Ravens\", \"Pirates\", \"Heroes\", \"Rebels\", \"Demons\", \"Machines\", \"Angels\", \"Knights\", \"Lions\", \"Shadows\", \"Zombies\", \"Wizards\", \"Killers\", \"Titans\", \"Outlaws\", \"Rebels\", \"Prophets\", \"Bandits\", \"Warriors\")\n",
    "val complements = Array(\"of Doom\", \"in Chains\", \"from Mars\", \"of the North\", \"of Death\", \"in Disguise\", \"of the Night\", \"from Hell\", \"of Tomorrow\", \"in Flames\", \"of the Deep\", \"from Beyond\", \"of Destruction\", \"in Shadow\", \"from the Sky\", \"of the Abyss\", \"in Exile\", \"from the East\", \"of Eternity\", \"from the Desert\", \"of the Underground\")\n",
    "\n",
    "import scala.util.Random\n",
    "\n",
    "object Track {\n",
    "  def generateTrack(trackId: Int): Track = {\n",
    "    val genre = genres(Random.nextInt(genres.length)).genreId\n",
    "    val mediaType = mediaTypes(Random.nextInt(mediaTypes.length)).mediaTypeId\n",
    "    val name = s\"${adjectives(Random.nextInt(adjectives.length))} ${nouns(Random.nextInt(nouns.length))} ${complements(Random.nextInt(complements.length))}\"\n",
    "    Track(trackId, name, mediaType, genre)\n",
    "  }\n",
    "}\n",
    "\n",
    "\n",
    "object Invoice {\n",
    "  def generateInvoice(invoiceId: Int, availableTracks: Array[Track]): Invoice = {\n",
    "    val itemCount = Random.nextInt(5) + 1\n",
    "    val selectedTracks = Random.shuffle(availableTracks.toList).take(itemCount)\n",
    "\n",
    "    val items = selectedTracks.zipWithIndex.map { case (track, idx) =>\n",
    "      val quantity = if (Random.nextDouble() < 0.8) 1 else Random.nextInt(3) + 1\n",
    "      val unitPrice = BigDecimal(0.99 + Random.nextDouble() * 1.01).setScale(2, BigDecimal.RoundingMode.HALF_UP)\n",
    "      InvoiceItem(\n",
    "        invoiceLineId = invoiceId * 10 + idx + 1,\n",
    "        invoiceId = invoiceId,\n",
    "        trackId = track.trackId,\n",
    "        unitPrice = unitPrice,\n",
    "        quantity = quantity\n",
    "      )\n",
    "    }\n",
    "    Invoice(invoiceId, items)\n",
    "  }\n",
    "}\n",
    "\n",
    "val tracks = (1 to 200).map(Track.generateTrack).toArray\n",
    "val invoices = (1 to 2000).map(id => Invoice.generateInvoice(id, tracks)).toArray\n",
    "\n",
    "tracks.foreach { track =>\n",
    "  println(f\"ID: ${track.trackId}%3d | Name: ${track.name}%-45s | MediaType ID: ${track.mediaType}%2d | Genre ID: ${track.genre}%2d\")\n",
    "}\n",
    "\n",
    "val media = List(1, 2, 3)\n",
    "val filteredTracks = tracks.filter(track => media.contains(track.mediaType))\n",
    "val invoiceFiltered = invoices.filter { invoice =>\n",
    "    invoice.items.forall { item =>\n",
    "        tracks.find(_.trackId == item.trackId).exists(_.genre == 1)\n",
    "    }\n",
    "}\n",
    "\n",
    "println(\"Filtered invoices\")\n",
    "invoiceFiltered.foreach { invoice =>\n",
    "  println(s\"Invoice ID: ${invoice.invoiceId}\")\n",
    "  invoice.items.foreach { item =>\n",
    "    println(f\"  Invoice Line ID: ${item.invoiceLineId}%3d | Track ID: ${item.trackId}%3d | Prix: ${item.unitPrice}%.2f | Quantité: ${item.quantity}%2d\")\n",
    "  }\n",
    "}\n",
    "\n",
    "val topSales = tracks\n",
    "    .map { track =>\n",
    "        val totalSales = invoices.flatMap(_.items).filter(_.trackId == track.trackId).map(_.quantity).sum\n",
    "        (track, totalSales)\n",
    "    }\n",
    "    .sortBy { case (_, sales) => -sales }\n",
    "    .take(5)\n",
    "\n",
    "println(\"Top 5\")\n",
    "topSales.foreach { case (track, sales) =>\n",
    "    println(f\"Track ID: ${track.trackId}%3d | Nom: ${track.name}%-45s | Total ventes: $sales\")\n",
    "}\n",
    "\n",
    "val totalOrdersByGenre = genres.map { genre =>\n",
    "    val trackIds = tracks.filter(_.genre == genre.genreId).map(_.trackId).toSet\n",
    "    val totalOrders = invoices.flatMap(_.items).count(item => trackIds.contains(item.trackId))\n",
    "    (genre.name, totalOrders)\n",
    "}.toMap\n",
    "\n",
    "println(\"Total commande par genre\")\n",
    "totalOrdersByGenre.foreach { case (genre, total) =>\n",
    "    println(f\"Genre: $genre%-20s | Total commande: $total\")\n",
    "}\n",
    "\n",
    "def findTopManager(employeeId: Int): Employee = {\n",
    "    val employee = employees.find(_.employeeId == employeeId).get\n",
    "    if (employee.reportsTo == 0) employee\n",
    "    else findTopManager(employee.reportsTo)\n",
    "}\n",
    "\n",
    "val emp = employees(2)\n",
    "val topManager = findTopManager(emp.employeeId)\n",
    "println(s\"Le plus haut responsable de ${emp.firstName} ${emp.lastName} est ${topManager.firstName} ${topManager.lastName}\")\n"
   ]
  },
  {
   "cell_type": "markdown",
   "id": "56334c62",
   "metadata": {},
   "source": [
    "## TP4\n",
    "\n",
    "### 1 Manipulation des données générées"
   ]
  },
  {
   "cell_type": "code",
   "execution_count": null,
   "id": "fe20ccbe",
   "metadata": {},
   "outputs": [
    {
     "name": "stdout",
     "output_type": "stream",
     "text": [
      "Tracks filtrés par type de média:\n",
      "ID:   2 | Name: Wild Titans in Chains                         | MediaType ID:  3\n",
      "ID:   4 | Name: Mystic Knights of Tomorrow                    | MediaType ID:  3\n",
      "ID:   7 | Name: Arctic Knights of Destruction                 | MediaType ID:  3\n",
      "ID:   8 | Name: Arctic Knights of the Night                   | MediaType ID:  3\n",
      "ID:   9 | Name: Atomic Ravens in Disguise                     | MediaType ID:  1\n",
      "ID:  12 | Name: Digital Rebels of Tomorrow                    | MediaType ID:  3\n",
      "ID:  13 | Name: Liquid Horizon of the Deep                    | MediaType ID:  2\n",
      "ID:  14 | Name: Wild Outlaws of the Night                     | MediaType ID:  1\n",
      "ID:  15 | Name: Crystal Demons in Flames                      | MediaType ID:  3\n",
      "ID:  17 | Name: Raging Empire of Eternity                     | MediaType ID:  2\n",
      "Invoice ID: 89\n",
      "  Invoice Line ID: 891 | Track ID:  55 | Prix: 1.58 | Quantité:  1\n",
      "Invoice ID: 147\n",
      "  Invoice Line ID: 1471 | Track ID:  55 | Prix: 1.83 | Quantité:  1\n",
      "Invoice ID: 343\n",
      "  Invoice Line ID: 3431 | Track ID: 152 | Prix: 1.79 | Quantité:  1\n",
      "Invoice ID: 544\n",
      "  Invoice Line ID: 5441 | Track ID: 155 | Prix: 1.46 | Quantité:  1\n",
      "Invoice ID: 707\n",
      "  Invoice Line ID: 7071 | Track ID: 125 | Prix: 1.77 | Quantité:  1\n",
      "Invoice ID: 787\n",
      "  Invoice Line ID: 7871 | Track ID: 152 | Prix: 1.10 | Quantité:  1\n",
      "Invoice ID: 886\n",
      "  Invoice Line ID: 8861 | Track ID: 140 | Prix: 1.43 | Quantité:  1\n",
      "Invoice ID: 1060\n",
      "  Invoice Line ID: 10601 | Track ID: 152 | Prix: 0.99 | Quantité:  1\n",
      "Invoice ID: 1120\n",
      "  Invoice Line ID: 11201 | Track ID: 127 | Prix: 1.31 | Quantité:  2\n",
      "  Invoice Line ID: 11202 | Track ID: 140 | Prix: 1.31 | Quantité:  1\n",
      "Invoice ID: 1429\n",
      "  Invoice Line ID: 14291 | Track ID: 127 | Prix: 1.35 | Quantité:  2\n",
      "Invoice ID: 1486\n",
      "  Invoice Line ID: 14861 | Track ID: 113 | Prix: 1.09 | Quantité:  1\n",
      "Invoice ID: 1579\n",
      "  Invoice Line ID: 15791 | Track ID: 152 | Prix: 1.08 | Quantité:  1\n",
      "Invoice ID: 1593\n",
      "  Invoice Line ID: 15931 | Track ID: 140 | Prix: 1.09 | Quantité:  3\n",
      "Invoice ID: 1693\n",
      "  Invoice Line ID: 16931 | Track ID:  71 | Prix: 1.79 | Quantité:  1\n",
      "Invoice ID: 1745\n",
      "  Invoice Line ID: 17451 | Track ID: 140 | Prix: 1.33 | Quantité:  1\n",
      "  Invoice Line ID: 17452 | Track ID: 107 | Prix: 1.87 | Quantité:  3\n",
      "Invoice ID: 1810\n",
      "  Invoice Line ID: 18101 | Track ID:   3 | Prix: 1.00 | Quantité:  1\n",
      "Invoice ID: 1835\n",
      "  Invoice Line ID: 18351 | Track ID:   3 | Prix: 1.90 | Quantité:  1\n",
      "Invoice ID: 1977\n",
      "  Invoice Line ID: 19771 | Track ID: 113 | Prix: 1.37 | Quantité:  1\n"
     ]
    },
    {
     "data": {
      "text/plain": [
       "tracksRDD = ParallelCollectionRDD[66] at parallelize at <console>:70\n",
       "invoicesRDD = ParallelCollectionRDD[67] at parallelize at <console>:71\n",
       "genresRDD = ParallelCollectionRDD[68] at parallelize at <console>:72\n",
       "employeesRDD = ParallelCollectionRDD[69] at parallelize at <console>:73\n",
       "filteredTracksRDD = MapPartitionsRDD[70] at filter at <console>:77\n",
       "rockTrackIds = Set(125, 152, 71, 113, 140, 155, 3, 127, 55, 107)\n",
       "invoiceFilteredRDD = MapPartitionsRDD[73] at filter at <console>:98\n"
      ]
     },
     "metadata": {},
     "output_type": "display_data"
    },
    {
     "data": {
      "text/plain": [
       "MapPartitionsRDD[73] at filter at <console>:98"
      ]
     },
     "execution_count": 16,
     "metadata": {},
     "output_type": "execute_result"
    }
   ],
   "source": [
    "import org.apache.spark.sql.SparkSession\n",
    "import org.apache.spark.rdd.RDD\n",
    "\n",
    "val tracksRDD: RDD[Track] = sc.parallelize(tracks)\n",
    "val invoicesRDD: RDD[Invoice] = sc.parallelize(invoices)\n",
    "val genresRDD: RDD[Genre] = sc.parallelize(genres)\n",
    "val employeesRDD: RDD[Employee] = sc.parallelize(employees)\n",
    "\n",
    "//filtrage\n",
    "\n",
    "val filteredTracksRDD = tracksRDD.filter(track => media.contains(track.mediaType))\n",
    "\n",
    "println(\"Tracks filtrés par type de média:\")\n",
    "filteredTracksRDD.take(10).foreach { track =>\n",
    "  println(f\"ID: ${track.trackId}%3d | Name: ${track.name}%-45s | MediaType ID: ${track.mediaType}%2d\")\n",
    "}\n",
    "\n",
    "val rockTrackIds = tracksRDD\n",
    "  .filter(_.genre == 1)\n",
    "  .map(_.trackId)\n",
    "  .collect()\n",
    "  .toSet\n",
    "\n",
    "\n",
    "val invoiceFilteredRDD = invoicesRDD.filter { invoice =>\n",
    "  invoice.items.forall { item =>\n",
    "    rockTrackIds.contains(item.trackId)\n",
    "  }\n",
    "}\n",
    "\n",
    "println(\"Commandes filtrées avec le genre 1:\")\n",
    "invoiceFilteredRDD.take(25).foreach { invoice =>\n",
    "  println(s\"Invoice ID: ${invoice.invoiceId}\")\n",
    "  invoice.items.foreach { item =>\n",
    "    println(f\"  Invoice Line ID: ${item.invoiceLineId}%3d | Track ID: ${item.trackId}%3d | Prix: ${item.unitPrice}%.2f | Quantité: ${item.quantity}%2d\")\n",
    "  }\n",
    "}\n"
   ]
  },
  {
   "cell_type": "code",
   "execution_count": null,
   "id": "10c8a6f7",
   "metadata": {},
   "outputs": [
    {
     "name": "stdout",
     "output_type": "stream",
     "text": [
      "Top 5 des titres en ventes:\n",
      "Track ID:  96 | Nom: Wild Zombies of the North                     | Total ventes: 55\n",
      "Track ID: 169 | Nom: Royal Dragons in Chains                       | Total ventes: 53\n",
      "Track ID:  39 | Nom: Sonic Ravens of the North                     | Total ventes: 52\n",
      "Track ID: 161 | Nom: Cosmic Ghosts of Tomorrow                     | Total ventes: 52\n",
      "Track ID: 125 | Nom: Liquid Thunder of Destruction                 | Total ventes: 50\n",
      "\n",
      "Total commandes par genre (RDD):\n",
      "Genre: Alternative & Punk   | Total commandes: 199\n",
      "Genre: World                | Total commandes: 157\n",
      "Genre: Comedy               | Total commandes: 346\n",
      "Genre: R&B/Soul             | Total commandes: 350\n",
      "Genre: Classical            | Total commandes: 239\n",
      "Genre: Blues                | Total commandes: 202\n",
      "Genre: Reggae               | Total commandes: 152\n",
      "Genre: Easy Listening       | Total commandes: 184\n",
      "Genre: Science Fiction      | Total commandes: 216\n",
      "Genre: Sci Fi & Fantasy     | Total commandes: 271\n",
      "Genre: Soundtrack           | Total commandes: 215\n",
      "Genre: Jazz                 | Total commandes: 222\n",
      "Genre: Heavy Metal          | Total commandes: 158\n",
      "Genre: TV Shows             | Total commandes: 380\n",
      "Genre: Electronica/Dance    | Total commandes: 207\n",
      "Genre: Drama                | Total commandes: 208\n",
      "Genre: Opera                | Total commandes: 366\n",
      "Genre: Bossa Nova           | Total commandes: 234\n",
      "Genre: Alternative          | Total commandes: 241\n",
      "Genre: Rock                 | Total commandes: 298\n",
      "Genre: Hip Hop/Rap          | Total commandes: 237\n",
      "Genre: Metal                | Total commandes: 258\n",
      "Genre: Latin                | Total commandes: 163\n",
      "Genre: Pop                  | Total commandes: 292\n",
      "Genre: Rock And Roll        | Total commandes: 141\n"
     ]
    },
    {
     "data": {
      "text/plain": [
       "allInvoiceItems = MapPartitionsRDD[134] at flatMap at <console>:61\n",
       "salesByTrack = ShuffledRDD[136] at reduceByKey at <console>:65\n",
       "topSalesRDD = Array((Track(96,Wild Zombies of the North,2,18),55), (Track(169,Royal Dragons in Chains,4,15),53), (Track(39,Sonic Ravens of the North,2,2),52), (Track(161,Cosmic Ghosts of Tomorrow,1,13),52), (Track(125,Liquid Thunder of Destruction,5,1),50))\n",
       "itemsWithGenre = MapPartitionsRDD[152] at map at <console>:83\n",
       "totalOrdersByGenreRDD = MapPartitionsRDD[158] at map at <console>:88\n"
      ]
     },
     "metadata": {},
     "output_type": "display_data"
    },
    {
     "data": {
      "text/plain": [
       "MapPartitionsRDD[158] at map at <console>:88"
      ]
     },
     "execution_count": 20,
     "metadata": {},
     "output_type": "execute_result"
    }
   ],
   "source": [
    "// agrégation\n",
    "\n",
    "val allInvoiceItems = invoicesRDD.flatMap(_.items)\n",
    "\n",
    "val salesByTrack = allInvoiceItems\n",
    "  .map(item => (item.trackId, item.quantity))\n",
    "  .reduceByKey(_ + _)\n",
    "\n",
    "val topSalesRDD = tracksRDD\n",
    "    .map(track => (track.trackId, track))\n",
    "    .join(salesByTrack)\n",
    "    .map { case (trackId, (track, totalSales)) => (track, totalSales) }\n",
    "    .sortBy { case (_, sales) => -sales }\n",
    "    .take(5)\n",
    "\n",
    "println(\"Top 5 des titres en ventes:\")\n",
    "topSalesRDD.foreach { case (track, sales) =>\n",
    "  println(f\"Track ID: ${track.trackId}%3d | Nom: ${track.name}%-45s | Total ventes: $sales\")\n",
    "}\n",
    "\n",
    "\n",
    "val itemsWithGenre = allInvoiceItems\n",
    "  .map(item => (item.trackId, item))\n",
    "  .join(tracksRDD.map(track => (track.trackId, track.genre)))\n",
    "  .map { case (trackId, (item, genre)) => (genre, 1) }\n",
    "\n",
    "val totalOrdersByGenreRDD = itemsWithGenre\n",
    "  .reduceByKey(_ + _)\n",
    "  .join(genresRDD.map(genre => (genre.genreId, genre.name)))\n",
    "  .map { case (genreId, (totalOrders, genreName)) => (genreName, totalOrders) }\n",
    "\n",
    "println(\"\\nTotal commandes par genre:\")\n",
    "totalOrdersByGenreRDD.collect().foreach { case (genre, total) =>\n",
    "  println(f\"Genre: $genre%-20s | Total commandes: $total\")\n",
    "}"
   ]
  },
  {
   "cell_type": "markdown",
   "id": "8703afee",
   "metadata": {},
   "source": [
    "## 2 Analyse des transformations"
   ]
  },
  {
   "cell_type": "code",
   "execution_count": null,
   "id": "b1688ee3",
   "metadata": {},
   "outputs": [
    {
     "name": "stdout",
     "output_type": "stream",
     "text": [
      "1. Pipeline filtrage des tracks:\n",
      "(2) MapPartitionsRDD[169] at filter at <console>:54 []\n",
      " |  ParallelCollectionRDD[66] at parallelize at <console>:70 []\n",
      "Shuffle: Non\n"
     ]
    },
    {
     "data": {
      "text/plain": [
       "filteredTracksRDD_debug = MapPartitionsRDD[169] at filter at <console>:54\n"
      ]
     },
     "metadata": {},
     "output_type": "display_data"
    },
    {
     "data": {
      "text/plain": [
       "MapPartitionsRDD[169] at filter at <console>:54"
      ]
     },
     "execution_count": 25,
     "metadata": {},
     "output_type": "execute_result"
    }
   ],
   "source": [
    "val filteredTracksRDD_debug = tracksRDD.filter(track => media.contains(track.mediaType))\n",
    "println(\"1. filtrage des tracks:\")\n",
    "println(filteredTracksRDD_debug.toDebugString)\n",
    "println(\"Shuffle: Non\")"
   ]
  },
  {
   "cell_type": "code",
   "execution_count": null,
   "id": "b12479ee",
   "metadata": {},
   "outputs": [
    {
     "name": "stdout",
     "output_type": "stream",
     "text": [
      "2. Pipeline filtrage des factures Rock:\n",
      "2a. RockTrackIds:\n",
      "(2) MapPartitionsRDD[167] at map at <console>:58 []\n",
      " |  MapPartitionsRDD[166] at filter at <console>:57 []\n",
      " |  ParallelCollectionRDD[66] at parallelize at <console>:70 []\n",
      "\n",
      "2b. InvoiceFiltered:\n",
      "(2) MapPartitionsRDD[168] at filter at <console>:60 []\n",
      " |  ParallelCollectionRDD[67] at parallelize at <console>:71 []\n",
      "\n"
     ]
    },
    {
     "data": {
      "text/plain": [
       "rockTrackIds_debug = MapPartitionsRDD[167] at map at <console>:58\n",
       "invoiceFilteredRDD_debug = MapPartitionsRDD[168] at filter at <console>:60\n"
      ]
     },
     "metadata": {},
     "output_type": "display_data"
    },
    {
     "data": {
      "text/plain": [
       "MapPartitionsRDD[168] at filter at <console>:60"
      ]
     },
     "execution_count": 24,
     "metadata": {},
     "output_type": "execute_result"
    }
   ],
   "source": [
    "val rockTrackIds_debug = tracksRDD\n",
    "  .filter(_.genre == 1)\n",
    "  .map(_.trackId)\n",
    "\n",
    "val invoiceFilteredRDD_debug = invoicesRDD.filter { invoice =>\n",
    "  invoice.items.forall { item =>\n",
    "    rockTrackIds.contains(item.trackId)\n",
    "  }\n",
    "}\n",
    "\n",
    "println(\"2. filtrage des commandes:\")\n",
    "println(\"rockTrackIds:\")\n",
    "println(rockTrackIds_debug.toDebugString)\n",
    "println(\"Shuffle: Non\")\n",
    "println()\n",
    "println(\"InvoiceFiltered:\")\n",
    "println(invoiceFilteredRDD_debug.toDebugString)\n",
    "println(\"Shuffle: Non\")"
   ]
  },
  {
   "cell_type": "code",
   "execution_count": 29,
   "id": "9b2383d9",
   "metadata": {},
   "outputs": [
    {
     "name": "stdout",
     "output_type": "stream",
     "text": [
      "3. Top 5 des ventes:\n",
      "AllInvoiceItems:\n",
      "(2) MapPartitionsRDD[196] at flatMap at <console>:55 []\n",
      " |  ParallelCollectionRDD[67] at parallelize at <console>:71 []\n",
      "Shuffle: Non\n",
      "\n",
      "SalesByTrack:\n",
      "(2) ShuffledRDD[198] at reduceByKey at <console>:59 []\n",
      " +-(2) MapPartitionsRDD[197] at map at <console>:58 []\n",
      "    |  MapPartitionsRDD[196] at flatMap at <console>:55 []\n",
      "    |  ParallelCollectionRDD[67] at parallelize at <console>:71 []\n",
      "Shuffle: Oui (reduceByKey)\n",
      "\n"
     ]
    },
    {
     "data": {
      "text/plain": [
       "allInvoiceItems_debug = MapPartitionsRDD[196] at flatMap at <console>:55\n",
       "salesByTrack_debug = ShuffledRDD[198] at reduceByKey at <console>:59\n",
       "topSalesRDD_debug = Array((Track(96,Wild Zombies of the North,2,18),55), (Track(169,Royal Dragons in Chains,4,15),53), (Track(39,Sonic Ravens of the North,2,2),52), (Track(161,Cosmic Ghosts of Tomorrow,1,13),52), (Track(125,Liquid Thunder of Destruction,5,1),50))\n"
      ]
     },
     "metadata": {},
     "output_type": "display_data"
    },
    {
     "data": {
      "text/plain": [
       "Array((Track(96,Wild Zombies of the North,2,18),55), (Track(169,Royal Dragons in Chains,4,15),53), (Track(39,Sonic Ravens of the North,2,2),52), (Track(161,Cosmic Ghosts of Tomorrow,1,13),52), (Track(125,Liquid Thunder of Destruction,5,1),50))"
      ]
     },
     "execution_count": 29,
     "metadata": {},
     "output_type": "execute_result"
    }
   ],
   "source": [
    "val allInvoiceItems_debug = invoicesRDD.flatMap(_.items)\n",
    "\n",
    "val salesByTrack_debug = allInvoiceItems_debug\n",
    "  .map(item => (item.trackId, item.quantity))\n",
    "  .reduceByKey(_ + _)\n",
    "\n",
    "val topSalesRDD_debug = tracksRDD\n",
    "  .map(track => (track.trackId, track))\n",
    "  .join(salesByTrack_debug)\n",
    "  .map { case (trackId, (track, totalSales)) => (track, totalSales) }\n",
    "  .sortBy { case (_, sales) => -sales }\n",
    "  .take(5)\n",
    "\n",
    "println(\"3. Top 5 des ventes:\")\n",
    "println(\"AllInvoiceItems:\")\n",
    "println(allInvoiceItems_debug.toDebugString)\n",
    "println(\"Shuffle: Non\")\n",
    "println()\n",
    "println(\"SalesByTrack:\")\n",
    "println(salesByTrack_debug.toDebugString)\n",
    "println(\"Shuffle: Oui (reduceByKey)\")\n",
    "println()\n",
    "\n"
   ]
  },
  {
   "cell_type": "code",
   "execution_count": null,
   "id": "135fdf4a",
   "metadata": {},
   "outputs": [
    {
     "data": {
      "text/plain": [
       "itemsWithGenre_debug = MapPartitionsRDD[214] at map at <console>:57\n",
       "totalOrdersByGenreRDD_debug = MapPartitionsRDD[220] at map at <console>:62\n"
      ]
     },
     "metadata": {},
     "output_type": "display_data"
    },
    {
     "name": "stdout",
     "output_type": "stream",
     "text": [
      "4. Pipeline Total commandes par genre:\n",
      "4a. ItemsWithGenre:\n",
      "(2) MapPartitionsRDD[214] at map at <console>:57 []\n",
      " |  MapPartitionsRDD[213] at join at <console>:56 []\n",
      " |  MapPartitionsRDD[212] at join at <console>:56 []\n",
      " |  CoGroupedRDD[211] at join at <console>:56 []\n",
      " +-(2) MapPartitionsRDD[209] at map at <console>:55 []\n",
      " |  |  MapPartitionsRDD[196] at flatMap at <console>:55 []\n",
      " |  |  ParallelCollectionRDD[67] at parallelize at <console>:71 []\n",
      " +-(2) MapPartitionsRDD[210] at map at <console>:56 []\n",
      "    |  ParallelCollectionRDD[66] at parallelize at <console>:70 []\n",
      "Shuffle: Oui (join)\n",
      "\n",
      "4b. TotalOrdersByGenreRDD:\n",
      "(2) MapPartitionsRDD[220] at map at <console>:62 []\n",
      " |  MapPartitionsRDD[219] at join at <console>:61 []\n",
      " |  MapPartitionsRDD[218] at join at <console>:61 []\n",
      " |  CoGroupedRDD[217] at join at <console>:61 []\n",
      " |  ShuffledRDD[215] at reduceByKey at <console>:60 []\n",
      " +-(2) MapPartitionsRDD[214] at map at <console>:57 []\n",
      "    |  MapPartitionsRDD[213] at join at <console>:56 []\n",
      "    |  MapPartitionsRDD[212] at join at <console>:56 []\n",
      "    |  CoGroupedRDD[211] at join at <console>:56 []\n",
      "    +-(2) MapPartitionsRDD[209] at map at <console>:55 []\n",
      "    |  |  MapPartitionsRDD[196] at flatMap at <console>:55 []\n",
      "    |  |  ParallelCollectionRDD[67] at parallelize at <console>:71 []\n",
      "    +-(2) MapPartitionsRDD[210] at map at <console>:56 []\n",
      "       |  ParallelCollectionRDD[66] at parallelize at <console>:70 []\n",
      " +-(2) MapPartitionsRDD[216] at map at <console>:61 []\n",
      "    |  ParallelCollectionRDD[68] at parallelize at <console>:72 []\n",
      "Shuffle: Oui (reduceByKey et join)\n"
     ]
    },
    {
     "data": {
      "text/plain": [
       "MapPartitionsRDD[220] at map at <console>:62"
      ]
     },
     "execution_count": 30,
     "metadata": {},
     "output_type": "execute_result"
    }
   ],
   "source": [
    "val itemsWithGenre_debug = allInvoiceItems_debug\n",
    "  .map(item => (item.trackId, item))\n",
    "  .join(tracksRDD.map(track => (track.trackId, track.genre)))\n",
    "  .map { case (trackId, (item, genre)) => (genre, 1) }\n",
    "\n",
    "val totalOrdersByGenreRDD_debug = itemsWithGenre_debug\n",
    "  .reduceByKey(_ + _)\n",
    "  .join(genresRDD.map(genre => (genre.genreId, genre.name)))\n",
    "  .map { case (genreId, (totalOrders, genreName)) => (genreName, totalOrders) }\n",
    "\n",
    "println(\"4. Total commandes par genre:\")\n",
    "println(\"ItemsWithGenre:\")\n",
    "println(itemsWithGenre_debug.toDebugString)\n",
    "println(\"Shuffle: Oui (join)\")\n",
    "println()\n",
    "println(\"TotalOrdersByGenreRDD:\")\n",
    "println(totalOrdersByGenreRDD_debug.toDebugString)\n",
    "println(\"Shuffle: Oui (reduceByKey et join)\")"
   ]
  },
  {
   "cell_type": "markdown",
   "id": "981cfa54",
   "metadata": {},
   "source": [
    "## 3 Chargement de CSV"
   ]
  },
  {
   "cell_type": "code",
   "execution_count": null,
   "id": "f81d29c1",
   "metadata": {},
   "outputs": [
    {
     "data": {
      "text/plain": [
       "lastException = null\n",
       "tracksCSV = MapPartitionsRDD[232] at map at <console>:59\n",
       "invoiceItemsCSV = MapPartitionsRDD[235] at map at <console>:60\n",
       "tracksFromCSV = MapPartitionsRDD[236] at map at <console>:62\n",
       "invoiceItemsFromCSV = MapPartitionsRDD[237] at map at <console>:71\n"
      ]
     },
     "metadata": {},
     "output_type": "display_data"
    },
    {
     "data": {
      "text/plain": [
       "MapPartitionsRDD[237] at map at <console>:71"
      ]
     },
     "execution_count": 33,
     "metadata": {},
     "output_type": "execute_result"
    }
   ],
   "source": [
    "val tracksCSV = sc.textFile(\"./csv/Track.csv\").map(_.split(\";\"))\n",
    "val invoiceItemsCSV = sc.textFile(\"./csv/InvoiceItem.csv\").map(_.split(\";\"))\n",
    "\n",
    "val tracksFromCSV: RDD[Track] = tracksCSV.map(cols =>\n",
    "    Track(\n",
    "        trackId = cols(0).toInt,\n",
    "        name = cols(1),\n",
    "        mediaType = cols(2).toInt,\n",
    "        genre = cols(3).toInt\n",
    "    )\n",
    ")\n",
    "\n",
    "val invoiceItemsFromCSV: RDD[InvoiceItem] = invoiceItemsCSV.map(cols =>\n",
    "    InvoiceItem(\n",
    "        invoiceLineId = cols(0).toInt,\n",
    "        invoiceId = cols(1).toInt,\n",
    "        trackId = cols(2).toInt,\n",
    "        unitPrice = BigDecimal(cols(3)),\n",
    "        quantity = cols(4).toInt\n",
    "    )\n",
    ")"
   ]
  },
  {
   "cell_type": "code",
   "execution_count": 36,
   "id": "dc61fcea",
   "metadata": {},
   "outputs": [
    {
     "name": "stdout",
     "output_type": "stream",
     "text": [
      "Tracks filtrés par type de média:\n",
      "ID:   1 | Name: For Those About To Rock (We Salute You)       | MediaType ID:  1\n",
      "ID:   2 | Name: Balls to the Wall                             | MediaType ID:  2\n",
      "ID:   3 | Name: Fast As a Shark                               | MediaType ID:  2\n",
      "ID:   4 | Name: Restless and Wild                             | MediaType ID:  2\n",
      "ID:   5 | Name: Princess of the Dawn                          | MediaType ID:  2\n",
      "ID:   6 | Name: Put The Finger On You                         | MediaType ID:  1\n",
      "ID:   7 | Name: Let's Get It Up                               | MediaType ID:  1\n",
      "ID:   8 | Name: Inject The Venom                              | MediaType ID:  1\n",
      "ID:   9 | Name: Snowballed                                    | MediaType ID:  1\n",
      "ID:  10 | Name: Evil Walks                                    | MediaType ID:  1\n"
     ]
    },
    {
     "data": {
      "text/plain": [
       "filteredTracksFromCSV = MapPartitionsRDD[245] at filter at <console>:54\n"
      ]
     },
     "metadata": {},
     "output_type": "display_data"
    },
    {
     "data": {
      "text/plain": [
       "MapPartitionsRDD[245] at filter at <console>:54"
      ]
     },
     "execution_count": 36,
     "metadata": {},
     "output_type": "execute_result"
    }
   ],
   "source": [
    "val filteredTracksFromCSV = tracksFromCSV.filter(track => media.contains(track.mediaType))\n",
    "println(\"Tracks filtrés par type de média:\")\n",
    "filteredTracksFromCSV.take(10).foreach { track =>\n",
    "    println(f\"ID: ${track.trackId}%3d | Name: ${track.name}%-45s | MediaType ID: ${track.mediaType}%2d\")\n",
    "}"
   ]
  },
  {
   "cell_type": "code",
   "execution_count": null,
   "id": "300417a5",
   "metadata": {},
   "outputs": [
    {
     "name": "stdout",
     "output_type": "stream",
     "text": [
      "Commandes filtrées avec le genre 1 (CSV):\n",
      "Invoice ID: 408\n",
      "  Invoice Line ID: 2207 | Track ID: 2953 | Prix: 0.99 | Quantité:  1\n",
      "  Invoice Line ID: 2208 | Track ID: 2955 | Prix: 0.99 | Quantité:  1\n",
      "  Invoice Line ID: 2209 | Track ID: 2957 | Prix: 0.99 | Quantité:  1\n",
      "  Invoice Line ID: 2210 | Track ID: 2959 | Prix: 0.99 | Quantité:  1\n",
      "Invoice ID: 302\n",
      "  Invoice Line ID: 1635 | Track ID: 2972 | Prix: 0.99 | Quantité:  1\n",
      "  Invoice Line ID: 1636 | Track ID: 2974 | Prix: 0.99 | Quantité:  1\n",
      "Invoice ID: 146\n",
      "  Invoice Line ID: 796 | Track ID: 1367 | Prix: 0.99 | Quantité:  1\n",
      "Invoice ID: 226\n",
      "  Invoice Line ID: 1219 | Track ID: 424 | Prix: 0.99 | Quantité:  1\n",
      "  Invoice Line ID: 1220 | Track ID: 426 | Prix: 0.99 | Quantité:  1\n",
      "  Invoice Line ID: 1221 | Track ID: 428 | Prix: 0.99 | Quantité:  1\n",
      "  Invoice Line ID: 1222 | Track ID: 430 | Prix: 0.99 | Quantité:  1\n",
      "Invoice ID: 288\n",
      "  Invoice Line ID: 1559 | Track ID: 2508 | Prix: 0.99 | Quantité:  1\n",
      "  Invoice Line ID: 1560 | Track ID: 2510 | Prix: 0.99 | Quantité:  1\n",
      "Invoice ID: 300\n",
      "  Invoice Line ID: 1632 | Track ID: 2968 | Prix: 0.99 | Quantité:  1\n",
      "Invoice ID: 22\n",
      "  Invoice Line ID: 115 | Track ID: 698 | Prix: 0.99 | Quantité:  1\n",
      "  Invoice Line ID: 116 | Track ID: 700 | Prix: 0.99 | Quantité:  1\n",
      "Invoice ID: 118\n",
      "  Invoice Line ID: 644 | Track ID: 439 | Prix: 0.99 | Quantité:  1\n",
      "Invoice ID: 198\n",
      "  Invoice Line ID: 1067 | Track ID: 2999 | Prix: 0.99 | Quantité:  1\n",
      "  Invoice Line ID: 1068 | Track ID: 3001 | Prix: 0.99 | Quantité:  1\n",
      "  Invoice Line ID: 1069 | Track ID: 3003 | Prix: 0.99 | Quantité:  1\n",
      "  Invoice Line ID: 1070 | Track ID: 3005 | Prix: 0.99 | Quantité:  1\n",
      "Invoice ID: 196\n",
      "  Invoice Line ID: 1063 | Track ID: 2992 | Prix: 0.99 | Quantité:  1\n",
      "  Invoice Line ID: 1064 | Track ID: 2993 | Prix: 0.99 | Quantité:  1\n"
     ]
    },
    {
     "data": {
      "text/plain": [
       "rockTrackIdsCSV = Set(2163, 2199, 3021, 1322, 1665, 2630, 1586, 1501, 2452, 809, 2094, 1411, 2612, 1024, 2744, 1369, 1168, 2306, 3053, 760, 3008, 1633, 1995, 2263, 347, 2412, 1237, 1031, 2463, 1315, 2427, 962, 2544, 777, 555, 88, 2280, 352, 1750, 1211, 1158, 2309, 2512, 582, 2976, 762, 3072, 1005, 2210, 2117, 2940, 1596, 1406, 683, 2231, 2622, 2644, 2381, 2395, 1443, 2659, 1618, 3285, 994, 2953, 1401, 2947, 1569, 3098, 2671, 2676, 2014, 5, 3108, 3012, 1205, 449, 1591, 2114, 440, 2380, 1793, 677, 1305, 1437, 1173, 1486, 1497, 10, 2195, 1705, 3017, 1608, 56, 1655, 2686, 1310, 3004, 550, 2740, 500, 2184, 1164, 1999, 797, 2448, 2933, 2141, 2434, 814, 2627, 1260, 698, 1988, 2459, 747, 1640, 340, 2146, 3276, 829, 1746, 3103, 2348, 1001, 2972, 2432, 1243, 2...\n"
      ]
     },
     "metadata": {},
     "output_type": "display_data"
    },
    {
     "data": {
      "text/plain": [
       "Set(2163, 2199, 3021, 1322, 1665, 2630, 1586, 1501, 2452, 809, 2094, 1411, 2612, 1024, 2744, 1369, 1168, 2306, 3053, 760, 3008, 1633, 1995, 2263, 347, 2412, 1237, 1031, 2463, 1315, 2427, 962, 2544, 777, 555, 88, 2280, 352, 1750, 1211, 1158, 2309, 2512, 582, 2976, 762, 3072, 1005, 2210, 2117, 2940, 1596, 1406, 683, 2231, 2622, 2644, 2381, 2395, 1443, 2659, 1618, 3285, 994, 2953, 1401, 2947, 1569, 3098, 2671, 2676, 2014, 5, 3108, 3012, 1205, 449, 1591, 2114, 440, 2380, 1793, 677, 1305, 1437, 1173, 1486, 1497, 10, 2195, 1705, 3017, 1608, 56, 1655, 2686, 1310, 3004, 550, 2740, 500, 2184, 1164, 1999, 797, 2448, 2933, 2141, 2434, 814, 2627, 1260, 698, 1988, 2459, 747, 1640, 340, 2146, 3276, 829, 1746, 3103, 2348, 1001, 2972, 2432, 1243, 2..."
      ]
     },
     "execution_count": 37,
     "metadata": {},
     "output_type": "execute_result"
    }
   ],
   "source": [
    "val rockTrackIdsCSV = tracksFromCSV.filter(_.genre == 1).map(_.trackId).collect().toSet\n",
    "val invoiceFilteredFromCSV = invoiceItemsFromCSV.groupBy(_.invoiceId).filter { case (_, items) =>\n",
    "    items.forall(item => rockTrackIdsCSV.contains(item.trackId))\n",
    "}\n",
    "println(\"Commandes filtrées avec le genre 1:\")\n",
    "invoiceFilteredFromCSV.take(10).foreach { case (invoiceId, items) =>\n",
    "    println(s\"Invoice ID: $invoiceId\")\n",
    "    items.foreach { item =>\n",
    "        println(f\"  Invoice Line ID: ${item.invoiceLineId}%3d | Track ID: ${item.trackId}%3d | Prix: ${item.unitPrice}%.2f | Quantité: ${item.quantity}%2d\")\n",
    "    }\n",
    "}"
   ]
  },
  {
   "cell_type": "code",
   "execution_count": null,
   "id": "ac4d7670",
   "metadata": {},
   "outputs": [
    {
     "name": "stdout",
     "output_type": "stream",
     "text": [
      "Top 5 des titres en ventes (CSV):\n",
      "Track ID:   2 | Nom: Balls to the Wall                             | Total ventes: 2\n",
      "Track ID: 2073 | Nom: Saber Amar                                    | Total ventes: 2\n",
      "Track ID:   8 | Nom: Inject The Venom                              | Total ventes: 2\n",
      "Track ID: 2085 | Nom: Meu Erro                                      | Total ventes: 2\n",
      "Track ID:  20 | Nom: Overdose                                      | Total ventes: 2\n"
     ]
    },
    {
     "data": {
      "text/plain": [
       "salesByTrackCSV = ShuffledRDD[252] at reduceByKey at <console>:55\n",
       "topSalesCSV = Array((Track(2,Balls to the Wall,2,1),2), (Track(2073,Saber Amar,1,7),2), (Track(8,Inject The Venom,1,1),2), (Track(2085,Meu Erro,1,7),2), (Track(20,Overdose,1,1),2))\n"
      ]
     },
     "metadata": {},
     "output_type": "display_data"
    },
    {
     "data": {
      "text/plain": [
       "Array((Track(2,Balls to the Wall,2,1),2), (Track(2073,Saber Amar,1,7),2), (Track(8,Inject The Venom,1,1),2), (Track(2085,Meu Erro,1,7),2), (Track(20,Overdose,1,1),2))"
      ]
     },
     "execution_count": 38,
     "metadata": {},
     "output_type": "execute_result"
    }
   ],
   "source": [
    "val salesByTrackCSV = invoiceItemsFromCSV\n",
    "    .map(item => (item.trackId, item.quantity))\n",
    "    .reduceByKey(_ + _)\n",
    "\n",
    "val topSalesCSV = tracksFromCSV\n",
    "    .map(track => (track.trackId, track))\n",
    "    .join(salesByTrackCSV)\n",
    "    .map { case (_, (track, totalSales)) => (track, totalSales) }\n",
    "    .sortBy { case (_, sales) => -sales }\n",
    "    .take(5)\n",
    "\n",
    "println(\"Top 5 des titres en ventes:\")\n",
    "topSalesCSV.foreach { case (track, sales) =>\n",
    "    println(f\"Track ID: ${track.trackId}%3d | Nom: ${track.name}%-45s | Total ventes: $sales\")\n",
    "}"
   ]
  },
  {
   "cell_type": "code",
   "execution_count": 39,
   "id": "f1b313d9",
   "metadata": {},
   "outputs": [
    {
     "name": "stdout",
     "output_type": "stream",
     "text": [
      "Total commandes par genre:\n",
      "Genre: Alternative & Punk   | Total commandes: 244\n",
      "Genre: World                | Total commandes: 13\n",
      "Genre: Comedy               | Total commandes: 9\n",
      "Genre: R&B/Soul             | Total commandes: 41\n",
      "Genre: Classical            | Total commandes: 41\n",
      "Genre: Blues                | Total commandes: 61\n",
      "Genre: Reggae               | Total commandes: 30\n",
      "Genre: Easy Listening       | Total commandes: 10\n",
      "Genre: Science Fiction      | Total commandes: 6\n",
      "Genre: Sci Fi & Fantasy     | Total commandes: 20\n",
      "Genre: Soundtrack           | Total commandes: 20\n",
      "Genre: Jazz                 | Total commandes: 80\n",
      "Genre: Heavy Metal          | Total commandes: 12\n",
      "Genre: TV Shows             | Total commandes: 47\n",
      "Genre: Electronica/Dance    | Total commandes: 12\n",
      "Genre: Drama                | Total commandes: 29\n",
      "Genre: Bossa Nova           | Total commandes: 15\n",
      "Genre: Alternative          | Total commandes: 14\n",
      "Genre: Rock                 | Total commandes: 835\n",
      "Genre: Hip Hop/Rap          | Total commandes: 17\n",
      "Genre: Metal                | Total commandes: 264\n",
      "Genre: Latin                | Total commandes: 386\n",
      "Genre: Pop                  | Total commandes: 28\n",
      "Genre: Rock And Roll        | Total commandes: 6\n"
     ]
    },
    {
     "data": {
      "text/plain": [
       "itemsWithGenreCSV = MapPartitionsRDD[268] at map at <console>:57\n",
       "totalOrdersByGenreCSV = MapPartitionsRDD[274] at map at <console>:62\n"
      ]
     },
     "metadata": {},
     "output_type": "display_data"
    },
    {
     "data": {
      "text/plain": [
       "MapPartitionsRDD[274] at map at <console>:62"
      ]
     },
     "execution_count": 39,
     "metadata": {},
     "output_type": "execute_result"
    }
   ],
   "source": [
    "val itemsWithGenreCSV = invoiceItemsFromCSV\n",
    "    .map(item => (item.trackId, item))\n",
    "    .join(tracksFromCSV.map(track => (track.trackId, track.genre)))\n",
    "    .map { case (_, (item, genre)) => (genre, 1) }\n",
    "\n",
    "val totalOrdersByGenreCSV = itemsWithGenreCSV\n",
    "    .reduceByKey(_ + _)\n",
    "    .join(genresRDD.map(genre => (genre.genreId, genre.name)))\n",
    "    .map { case (genreId, (totalOrders, genreName)) => (genreName, totalOrders) }\n",
    "\n",
    "println(\"Total commandes par genre:\")\n",
    "totalOrdersByGenreCSV.collect().foreach { case (genre, total) =>\n",
    "    println(f\"Genre: $genre%-20s | Total commandes: $total\")\n",
    "}"
   ]
  }
 ],
 "metadata": {
  "kernelspec": {
   "display_name": "Apache Toree - Scala",
   "language": "scala",
   "name": "apache_toree_scala"
  },
  "language_info": {
   "codemirror_mode": "text/x-scala",
   "file_extension": ".scala",
   "mimetype": "text/x-scala",
   "name": "scala",
   "pygments_lexer": "scala",
   "version": "2.12.15"
  }
 },
 "nbformat": 4,
 "nbformat_minor": 5
}
